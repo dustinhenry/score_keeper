{
 "cells": [
  {
   "cell_type": "markdown",
   "id": "2a2e23a7",
   "metadata": {},
   "source": [
    "# May I Stats"
   ]
  },
  {
   "cell_type": "code",
   "execution_count": 11,
   "id": "b02a8571",
   "metadata": {},
   "outputs": [
    {
     "data": {
      "application/vnd.microsoft.datawrangler.viewer.v0+json": {
       "columns": [
        {
         "name": "index",
         "rawType": "int64",
         "type": "integer"
        },
        {
         "name": "Player Name",
         "rawType": "object",
         "type": "string"
        },
        {
         "name": "Wins",
         "rawType": "int64",
         "type": "integer"
        },
        {
         "name": "Final Score List",
         "rawType": "object",
         "type": "string"
        },
        {
         "name": "Games Played",
         "rawType": "float64",
         "type": "float"
        },
        {
         "name": "Average Score",
         "rawType": "float64",
         "type": "float"
        },
        {
         "name": "Winning Average",
         "rawType": "float64",
         "type": "float"
        }
       ],
       "ref": "28fc9b06-7443-442b-bbdf-b5813212eb5a",
       "rows": [
        [
         "0",
         "Lisa",
         "9",
         "[444.0, 62.0, 29.0, 337.0, 145.0, 46.0, 151.0, 182.0, 43.0, 485.0, 258.0, 67.0, 231.0, 234.0, 204.0, 174.0, 217.0, 46.0, 45.0, 340.0, 237, 217]",
         null,
         null,
         null
        ],
        [
         "1",
         "Norma",
         "4",
         "[330.0, 215.0, 83.0, 575.0, 234.0, 399.0, 315.0, 16.0, 19.0, 138.0, 180.0, 454.0, 77.0, 394.0, 732.0, 119.0, 45.0, 239.0, 702.0, 212.0, 501, 337]",
         null,
         null,
         null
        ],
        [
         "2",
         "Dustin",
         "9",
         "[193.0, 229.0, 69.0, 184.0, 306.0, 413.0, 230.0, 29.0, 203.0, 197.0, 119.0, 335.0, 131.0, 198.0, 74.0, 113.0, 40.0, 149.0, 214.0, 140.0, 540, 128]",
         null,
         null,
         null
        ],
        [
         "3",
         "James",
         "0",
         "[]",
         null,
         null,
         null
        ],
        [
         "4",
         "Carli",
         "0",
         "[]",
         null,
         null,
         null
        ],
        [
         "5",
         "Kathy",
         "0",
         "[]",
         null,
         null,
         null
        ]
       ],
       "shape": {
        "columns": 6,
        "rows": 6
       }
      },
      "text/html": [
       "<div>\n",
       "<style scoped>\n",
       "    .dataframe tbody tr th:only-of-type {\n",
       "        vertical-align: middle;\n",
       "    }\n",
       "\n",
       "    .dataframe tbody tr th {\n",
       "        vertical-align: top;\n",
       "    }\n",
       "\n",
       "    .dataframe thead th {\n",
       "        text-align: right;\n",
       "    }\n",
       "</style>\n",
       "<table border=\"1\" class=\"dataframe\">\n",
       "  <thead>\n",
       "    <tr style=\"text-align: right;\">\n",
       "      <th></th>\n",
       "      <th>Player Name</th>\n",
       "      <th>Wins</th>\n",
       "      <th>Final Score List</th>\n",
       "      <th>Games Played</th>\n",
       "      <th>Average Score</th>\n",
       "      <th>Winning Average</th>\n",
       "    </tr>\n",
       "  </thead>\n",
       "  <tbody>\n",
       "    <tr>\n",
       "      <th>0</th>\n",
       "      <td>Lisa</td>\n",
       "      <td>9</td>\n",
       "      <td>[444.0, 62.0, 29.0, 337.0, 145.0, 46.0, 151.0,...</td>\n",
       "      <td>NaN</td>\n",
       "      <td>NaN</td>\n",
       "      <td>NaN</td>\n",
       "    </tr>\n",
       "    <tr>\n",
       "      <th>1</th>\n",
       "      <td>Norma</td>\n",
       "      <td>4</td>\n",
       "      <td>[330.0, 215.0, 83.0, 575.0, 234.0, 399.0, 315....</td>\n",
       "      <td>NaN</td>\n",
       "      <td>NaN</td>\n",
       "      <td>NaN</td>\n",
       "    </tr>\n",
       "    <tr>\n",
       "      <th>2</th>\n",
       "      <td>Dustin</td>\n",
       "      <td>9</td>\n",
       "      <td>[193.0, 229.0, 69.0, 184.0, 306.0, 413.0, 230....</td>\n",
       "      <td>NaN</td>\n",
       "      <td>NaN</td>\n",
       "      <td>NaN</td>\n",
       "    </tr>\n",
       "    <tr>\n",
       "      <th>3</th>\n",
       "      <td>James</td>\n",
       "      <td>0</td>\n",
       "      <td>[]</td>\n",
       "      <td>NaN</td>\n",
       "      <td>NaN</td>\n",
       "      <td>NaN</td>\n",
       "    </tr>\n",
       "    <tr>\n",
       "      <th>4</th>\n",
       "      <td>Carli</td>\n",
       "      <td>0</td>\n",
       "      <td>[]</td>\n",
       "      <td>NaN</td>\n",
       "      <td>NaN</td>\n",
       "      <td>NaN</td>\n",
       "    </tr>\n",
       "    <tr>\n",
       "      <th>5</th>\n",
       "      <td>Kathy</td>\n",
       "      <td>0</td>\n",
       "      <td>[]</td>\n",
       "      <td>NaN</td>\n",
       "      <td>NaN</td>\n",
       "      <td>NaN</td>\n",
       "    </tr>\n",
       "  </tbody>\n",
       "</table>\n",
       "</div>"
      ],
      "text/plain": [
       "  Player Name  Wins                                   Final Score List  \\\n",
       "0        Lisa     9  [444.0, 62.0, 29.0, 337.0, 145.0, 46.0, 151.0,...   \n",
       "1       Norma     4  [330.0, 215.0, 83.0, 575.0, 234.0, 399.0, 315....   \n",
       "2      Dustin     9  [193.0, 229.0, 69.0, 184.0, 306.0, 413.0, 230....   \n",
       "3       James     0                                                 []   \n",
       "4       Carli     0                                                 []   \n",
       "5       Kathy     0                                                 []   \n",
       "\n",
       "   Games Played  Average Score  Winning Average  \n",
       "0           NaN            NaN              NaN  \n",
       "1           NaN            NaN              NaN  \n",
       "2           NaN            NaN              NaN  \n",
       "3           NaN            NaN              NaN  \n",
       "4           NaN            NaN              NaN  \n",
       "5           NaN            NaN              NaN  "
      ]
     },
     "execution_count": 11,
     "metadata": {},
     "output_type": "execute_result"
    }
   ],
   "source": [
    "import pandas as pd\n",
    "\n",
    "data = pd.read_csv(\"mayIPlayerStats.csv\")\n",
    "data"
   ]
  },
  {
   "cell_type": "code",
   "execution_count": 13,
   "id": "82813094",
   "metadata": {},
   "outputs": [
    {
     "data": {
      "application/vnd.microsoft.datawrangler.viewer.v0+json": {
       "columns": [
        {
         "name": "Wins",
         "rawType": "int64",
         "type": "integer"
        },
        {
         "name": "count",
         "rawType": "int64",
         "type": "integer"
        }
       ],
       "ref": "5b645762-dfdc-4377-8b45-f44946dfbe9c",
       "rows": [
        [
         "0",
         "3"
        ],
        [
         "9",
         "2"
        ],
        [
         "4",
         "1"
        ]
       ],
       "shape": {
        "columns": 1,
        "rows": 3
       }
      },
      "text/plain": [
       "Wins\n",
       "0    3\n",
       "9    2\n",
       "4    1\n",
       "Name: count, dtype: int64"
      ]
     },
     "execution_count": 13,
     "metadata": {},
     "output_type": "execute_result"
    }
   ],
   "source": [
    "data['Wins'].value_counts()"
   ]
  },
  {
   "cell_type": "code",
   "execution_count": 14,
   "id": "128751af",
   "metadata": {},
   "outputs": [
    {
     "data": {
      "application/vnd.microsoft.datawrangler.viewer.v0+json": {
       "columns": [
        {
         "name": "index",
         "rawType": "object",
         "type": "string"
        },
        {
         "name": "Wins",
         "rawType": "float64",
         "type": "float"
        }
       ],
       "ref": "bd0ab6c7-546e-44d5-a81b-a46e9b82a665",
       "rows": [
        [
         "count",
         "6.0"
        ],
        [
         "mean",
         "3.6666666666666665"
        ],
        [
         "std",
         "4.4121045620731465"
        ],
        [
         "min",
         "0.0"
        ],
        [
         "25%",
         "0.0"
        ],
        [
         "50%",
         "2.0"
        ],
        [
         "75%",
         "7.75"
        ],
        [
         "max",
         "9.0"
        ]
       ],
       "shape": {
        "columns": 1,
        "rows": 8
       }
      },
      "text/plain": [
       "count    6.000000\n",
       "mean     3.666667\n",
       "std      4.412105\n",
       "min      0.000000\n",
       "25%      0.000000\n",
       "50%      2.000000\n",
       "75%      7.750000\n",
       "max      9.000000\n",
       "Name: Wins, dtype: float64"
      ]
     },
     "execution_count": 14,
     "metadata": {},
     "output_type": "execute_result"
    }
   ],
   "source": [
    "data['Wins'].describe()"
   ]
  },
  {
   "cell_type": "code",
   "execution_count": 15,
   "id": "8f028471",
   "metadata": {},
   "outputs": [
    {
     "data": {
      "application/vnd.microsoft.datawrangler.viewer.v0+json": {
       "columns": [
        {
         "name": "index",
         "rawType": "object",
         "type": "string"
        },
        {
         "name": "Final Score List",
         "rawType": "object",
         "type": "unknown"
        }
       ],
       "ref": "69fd9791-f5c4-4ea7-ba72-a458d9dc9198",
       "rows": [
        [
         "count",
         "6"
        ],
        [
         "unique",
         "4"
        ],
        [
         "top",
         "[]"
        ],
        [
         "freq",
         "3"
        ]
       ],
       "shape": {
        "columns": 1,
        "rows": 4
       }
      },
      "text/plain": [
       "count      6\n",
       "unique     4\n",
       "top       []\n",
       "freq       3\n",
       "Name: Final Score List, dtype: object"
      ]
     },
     "execution_count": 15,
     "metadata": {},
     "output_type": "execute_result"
    }
   ],
   "source": [
    "data['Final Score List'].describe()"
   ]
  },
  {
   "cell_type": "code",
   "execution_count": 16,
   "id": "d14db2c5",
   "metadata": {},
   "outputs": [
    {
     "data": {
      "application/vnd.microsoft.datawrangler.viewer.v0+json": {
       "columns": [
        {
         "name": "Final Score List",
         "rawType": "object",
         "type": "string"
        },
        {
         "name": "count",
         "rawType": "int64",
         "type": "integer"
        }
       ],
       "ref": "f74614e9-0578-4a12-9567-308f404248ba",
       "rows": [
        [
         "[]",
         "3"
        ],
        [
         "[444.0, 62.0, 29.0, 337.0, 145.0, 46.0, 151.0, 182.0, 43.0, 485.0, 258.0, 67.0, 231.0, 234.0, 204.0, 174.0, 217.0, 46.0, 45.0, 340.0, 237, 217]",
         "1"
        ],
        [
         "[330.0, 215.0, 83.0, 575.0, 234.0, 399.0, 315.0, 16.0, 19.0, 138.0, 180.0, 454.0, 77.0, 394.0, 732.0, 119.0, 45.0, 239.0, 702.0, 212.0, 501, 337]",
         "1"
        ],
        [
         "[193.0, 229.0, 69.0, 184.0, 306.0, 413.0, 230.0, 29.0, 203.0, 197.0, 119.0, 335.0, 131.0, 198.0, 74.0, 113.0, 40.0, 149.0, 214.0, 140.0, 540, 128]",
         "1"
        ]
       ],
       "shape": {
        "columns": 1,
        "rows": 4
       }
      },
      "text/plain": [
       "Final Score List\n",
       "[]                                                                                                                                                    3\n",
       "[444.0, 62.0, 29.0, 337.0, 145.0, 46.0, 151.0, 182.0, 43.0, 485.0, 258.0, 67.0, 231.0, 234.0, 204.0, 174.0, 217.0, 46.0, 45.0, 340.0, 237, 217]       1\n",
       "[330.0, 215.0, 83.0, 575.0, 234.0, 399.0, 315.0, 16.0, 19.0, 138.0, 180.0, 454.0, 77.0, 394.0, 732.0, 119.0, 45.0, 239.0, 702.0, 212.0, 501, 337]     1\n",
       "[193.0, 229.0, 69.0, 184.0, 306.0, 413.0, 230.0, 29.0, 203.0, 197.0, 119.0, 335.0, 131.0, 198.0, 74.0, 113.0, 40.0, 149.0, 214.0, 140.0, 540, 128]    1\n",
       "Name: count, dtype: int64"
      ]
     },
     "execution_count": 16,
     "metadata": {},
     "output_type": "execute_result"
    }
   ],
   "source": [
    "data['Final Score List'].value_counts()"
   ]
  },
  {
   "cell_type": "code",
   "execution_count": null,
   "id": "ccea3517",
   "metadata": {},
   "outputs": [],
   "source": []
  }
 ],
 "metadata": {
  "kernelspec": {
   "display_name": "Python 3",
   "language": "python",
   "name": "python3"
  },
  "language_info": {
   "codemirror_mode": {
    "name": "ipython",
    "version": 3
   },
   "file_extension": ".py",
   "mimetype": "text/x-python",
   "name": "python",
   "nbconvert_exporter": "python",
   "pygments_lexer": "ipython3",
   "version": "3.13.5"
  }
 },
 "nbformat": 4,
 "nbformat_minor": 5
}
