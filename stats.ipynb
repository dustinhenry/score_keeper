{
 "cells": [
  {
   "cell_type": "markdown",
   "id": "2a2e23a7",
   "metadata": {},
   "source": [
    "# May I Stats"
   ]
  },
  {
   "cell_type": "code",
   "execution_count": 1,
   "id": "b02a8571",
   "metadata": {},
   "outputs": [
    {
     "data": {
      "application/vnd.microsoft.datawrangler.viewer.v0+json": {
       "columns": [
        {
         "name": "index",
         "rawType": "int64",
         "type": "integer"
        },
        {
         "name": "Player Name",
         "rawType": "object",
         "type": "string"
        },
        {
         "name": "Wins",
         "rawType": "int64",
         "type": "integer"
        },
        {
         "name": "Final Score List",
         "rawType": "object",
         "type": "string"
        },
        {
         "name": "Games Played",
         "rawType": "int64",
         "type": "integer"
        },
        {
         "name": "Average Score",
         "rawType": "float64",
         "type": "float"
        },
        {
         "name": "Winning Average",
         "rawType": "float64",
         "type": "float"
        }
       ],
       "ref": "5d5acd34-27b0-404a-8d8f-9eba2b868c73",
       "rows": [
        [
         "0",
         "Lisa",
         "9",
         "[444.0, 62.0, 29.0, 337.0, 145.0, 46.0, 151.0, 182.0, 43.0, 485.0, 258.0, 67.0, 231.0, 234.0, 204.0, 174.0, 217.0, 46.0, 45.0, 340.0, 237, 217, 428]",
         "22",
         "190.6",
         "0.409"
        ],
        [
         "1",
         "Norma",
         "5",
         "[330.0, 215.0, 83.0, 575.0, 234.0, 399.0, 315.0, 16.0, 19.0, 138.0, 180.0, 454.0, 77.0, 394.0, 732.0, 119.0, 45.0, 239.0, 702.0, 212.0, 501, 337, 178]",
         "22",
         "287.1",
         "0.182"
        ],
        [
         "2",
         "Dustin",
         "9",
         "[193.0, 229.0, 69.0, 184.0, 306.0, 413.0, 230.0, 29.0, 203.0, 197.0, 119.0, 335.0, 131.0, 198.0, 74.0, 113.0, 40.0, 149.0, 214.0, 140.0, 540, 128, 269]",
         "22",
         "192.5",
         "0.409"
        ],
        [
         "3",
         "James",
         "0",
         "[]",
         "0",
         "0.0",
         "0.0"
        ],
        [
         "4",
         "Carli",
         "0",
         "[]",
         "0",
         "0.0",
         "0.0"
        ],
        [
         "5",
         "Kathy",
         "0",
         "[]",
         "0",
         "0.0",
         "0.0"
        ]
       ],
       "shape": {
        "columns": 6,
        "rows": 6
       }
      },
      "text/html": [
       "<div>\n",
       "<style scoped>\n",
       "    .dataframe tbody tr th:only-of-type {\n",
       "        vertical-align: middle;\n",
       "    }\n",
       "\n",
       "    .dataframe tbody tr th {\n",
       "        vertical-align: top;\n",
       "    }\n",
       "\n",
       "    .dataframe thead th {\n",
       "        text-align: right;\n",
       "    }\n",
       "</style>\n",
       "<table border=\"1\" class=\"dataframe\">\n",
       "  <thead>\n",
       "    <tr style=\"text-align: right;\">\n",
       "      <th></th>\n",
       "      <th>Player Name</th>\n",
       "      <th>Wins</th>\n",
       "      <th>Final Score List</th>\n",
       "      <th>Games Played</th>\n",
       "      <th>Average Score</th>\n",
       "      <th>Winning Average</th>\n",
       "    </tr>\n",
       "  </thead>\n",
       "  <tbody>\n",
       "    <tr>\n",
       "      <th>0</th>\n",
       "      <td>Lisa</td>\n",
       "      <td>9</td>\n",
       "      <td>[444.0, 62.0, 29.0, 337.0, 145.0, 46.0, 151.0,...</td>\n",
       "      <td>22</td>\n",
       "      <td>190.6</td>\n",
       "      <td>0.409</td>\n",
       "    </tr>\n",
       "    <tr>\n",
       "      <th>1</th>\n",
       "      <td>Norma</td>\n",
       "      <td>5</td>\n",
       "      <td>[330.0, 215.0, 83.0, 575.0, 234.0, 399.0, 315....</td>\n",
       "      <td>22</td>\n",
       "      <td>287.1</td>\n",
       "      <td>0.182</td>\n",
       "    </tr>\n",
       "    <tr>\n",
       "      <th>2</th>\n",
       "      <td>Dustin</td>\n",
       "      <td>9</td>\n",
       "      <td>[193.0, 229.0, 69.0, 184.0, 306.0, 413.0, 230....</td>\n",
       "      <td>22</td>\n",
       "      <td>192.5</td>\n",
       "      <td>0.409</td>\n",
       "    </tr>\n",
       "    <tr>\n",
       "      <th>3</th>\n",
       "      <td>James</td>\n",
       "      <td>0</td>\n",
       "      <td>[]</td>\n",
       "      <td>0</td>\n",
       "      <td>0.0</td>\n",
       "      <td>0.000</td>\n",
       "    </tr>\n",
       "    <tr>\n",
       "      <th>4</th>\n",
       "      <td>Carli</td>\n",
       "      <td>0</td>\n",
       "      <td>[]</td>\n",
       "      <td>0</td>\n",
       "      <td>0.0</td>\n",
       "      <td>0.000</td>\n",
       "    </tr>\n",
       "    <tr>\n",
       "      <th>5</th>\n",
       "      <td>Kathy</td>\n",
       "      <td>0</td>\n",
       "      <td>[]</td>\n",
       "      <td>0</td>\n",
       "      <td>0.0</td>\n",
       "      <td>0.000</td>\n",
       "    </tr>\n",
       "  </tbody>\n",
       "</table>\n",
       "</div>"
      ],
      "text/plain": [
       "  Player Name  Wins                                   Final Score List  \\\n",
       "0        Lisa     9  [444.0, 62.0, 29.0, 337.0, 145.0, 46.0, 151.0,...   \n",
       "1       Norma     5  [330.0, 215.0, 83.0, 575.0, 234.0, 399.0, 315....   \n",
       "2      Dustin     9  [193.0, 229.0, 69.0, 184.0, 306.0, 413.0, 230....   \n",
       "3       James     0                                                 []   \n",
       "4       Carli     0                                                 []   \n",
       "5       Kathy     0                                                 []   \n",
       "\n",
       "   Games Played  Average Score  Winning Average  \n",
       "0            22          190.6            0.409  \n",
       "1            22          287.1            0.182  \n",
       "2            22          192.5            0.409  \n",
       "3             0            0.0            0.000  \n",
       "4             0            0.0            0.000  \n",
       "5             0            0.0            0.000  "
      ]
     },
     "execution_count": 1,
     "metadata": {},
     "output_type": "execute_result"
    }
   ],
   "source": [
    "import pandas as pd\n",
    "\n",
    "data = pd.read_csv(\"mayIPlayerStats.csv\")\n",
    "data"
   ]
  },
  {
   "cell_type": "code",
   "execution_count": 5,
   "id": "82813094",
   "metadata": {},
   "outputs": [
    {
     "data": {
      "application/vnd.microsoft.datawrangler.viewer.v0+json": {
       "columns": [
        {
         "name": "Average Score",
         "rawType": "float64",
         "type": "float"
        },
        {
         "name": "count",
         "rawType": "int64",
         "type": "integer"
        }
       ],
       "ref": "89bc8929-35d9-4994-849c-27c0325ee73c",
       "rows": [
        [
         "0.0",
         "3"
        ],
        [
         "190.6",
         "1"
        ],
        [
         "287.1",
         "1"
        ],
        [
         "192.5",
         "1"
        ]
       ],
       "shape": {
        "columns": 1,
        "rows": 4
       }
      },
      "text/plain": [
       "Average Score\n",
       "0.0      3\n",
       "190.6    1\n",
       "287.1    1\n",
       "192.5    1\n",
       "Name: count, dtype: int64"
      ]
     },
     "execution_count": 5,
     "metadata": {},
     "output_type": "execute_result"
    }
   ],
   "source": [
    "data['Average Score'].value_counts()"
   ]
  },
  {
   "cell_type": "code",
   "execution_count": 6,
   "id": "128751af",
   "metadata": {},
   "outputs": [
    {
     "data": {
      "application/vnd.microsoft.datawrangler.viewer.v0+json": {
       "columns": [
        {
         "name": "index",
         "rawType": "object",
         "type": "string"
        },
        {
         "name": "Average Score",
         "rawType": "float64",
         "type": "float"
        }
       ],
       "ref": "1e741dbd-2521-4365-92cc-115d87444e84",
       "rows": [
        [
         "count",
         "6.0"
        ],
        [
         "mean",
         "111.7"
        ],
        [
         "std",
         "127.23967934571354"
        ],
        [
         "min",
         "0.0"
        ],
        [
         "25%",
         "0.0"
        ],
        [
         "50%",
         "95.3"
        ],
        [
         "75%",
         "192.025"
        ],
        [
         "max",
         "287.1"
        ]
       ],
       "shape": {
        "columns": 1,
        "rows": 8
       }
      },
      "text/plain": [
       "count      6.000000\n",
       "mean     111.700000\n",
       "std      127.239679\n",
       "min        0.000000\n",
       "25%        0.000000\n",
       "50%       95.300000\n",
       "75%      192.025000\n",
       "max      287.100000\n",
       "Name: Average Score, dtype: float64"
      ]
     },
     "execution_count": 6,
     "metadata": {},
     "output_type": "execute_result"
    }
   ],
   "source": [
    "data['Average Score'].describe()"
   ]
  },
  {
   "cell_type": "code",
   "execution_count": 8,
   "id": "8f028471",
   "metadata": {},
   "outputs": [
    {
     "data": {
      "application/vnd.microsoft.datawrangler.viewer.v0+json": {
       "columns": [
        {
         "name": "index",
         "rawType": "object",
         "type": "string"
        },
        {
         "name": "Winning Average",
         "rawType": "float64",
         "type": "float"
        }
       ],
       "ref": "18e98bd3-83ba-4839-8493-1d64fda3aa73",
       "rows": [
        [
         "count",
         "6.0"
        ],
        [
         "mean",
         "0.16666666666666666"
        ],
        [
         "std",
         "0.2005090189160245"
        ],
        [
         "min",
         "0.0"
        ],
        [
         "25%",
         "0.0"
        ],
        [
         "50%",
         "0.091"
        ],
        [
         "75%",
         "0.35224999999999995"
        ],
        [
         "max",
         "0.409"
        ]
       ],
       "shape": {
        "columns": 1,
        "rows": 8
       }
      },
      "text/plain": [
       "count    6.000000\n",
       "mean     0.166667\n",
       "std      0.200509\n",
       "min      0.000000\n",
       "25%      0.000000\n",
       "50%      0.091000\n",
       "75%      0.352250\n",
       "max      0.409000\n",
       "Name: Winning Average, dtype: float64"
      ]
     },
     "execution_count": 8,
     "metadata": {},
     "output_type": "execute_result"
    }
   ],
   "source": [
    "data['Winning Average'].describe()"
   ]
  },
  {
   "cell_type": "code",
   "execution_count": 9,
   "id": "d14db2c5",
   "metadata": {},
   "outputs": [
    {
     "data": {
      "application/vnd.microsoft.datawrangler.viewer.v0+json": {
       "columns": [
        {
         "name": "Winning Average",
         "rawType": "float64",
         "type": "float"
        },
        {
         "name": "count",
         "rawType": "int64",
         "type": "integer"
        }
       ],
       "ref": "8b6d55ce-b5cf-49fb-8543-5329455c7c9d",
       "rows": [
        [
         "0.0",
         "3"
        ],
        [
         "0.409",
         "2"
        ],
        [
         "0.182",
         "1"
        ]
       ],
       "shape": {
        "columns": 1,
        "rows": 3
       }
      },
      "text/plain": [
       "Winning Average\n",
       "0.000    3\n",
       "0.409    2\n",
       "0.182    1\n",
       "Name: count, dtype: int64"
      ]
     },
     "execution_count": 9,
     "metadata": {},
     "output_type": "execute_result"
    }
   ],
   "source": [
    "data['Winning Average'].value_counts()"
   ]
  },
  {
   "cell_type": "code",
   "execution_count": null,
   "id": "ccea3517",
   "metadata": {},
   "outputs": [],
   "source": []
  }
 ],
 "metadata": {
  "kernelspec": {
   "display_name": ".venv",
   "language": "python",
   "name": "python3"
  },
  "language_info": {
   "codemirror_mode": {
    "name": "ipython",
    "version": 3
   },
   "file_extension": ".py",
   "mimetype": "text/x-python",
   "name": "python",
   "nbconvert_exporter": "python",
   "pygments_lexer": "ipython3",
   "version": "3.13.5"
  }
 },
 "nbformat": 4,
 "nbformat_minor": 5
}
